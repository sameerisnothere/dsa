{
 "cells": [
  {
   "cell_type": "markdown",
   "id": "bcc6165f",
   "metadata": {},
   "source": [
    "## Quicksort"
   ]
  },
  {
   "cell_type": "code",
   "execution_count": 3,
   "id": "fa44fee0",
   "metadata": {},
   "outputs": [
    {
     "name": "stdout",
     "output_type": "stream",
     "text": [
      "[11, 22, 33, 44, 55, 66, 77, 88]\n"
     ]
    }
   ],
   "source": [
    "def quicksort(arr, left, right):\n",
    "    if left < right:\n",
    "        partition_pos = partition(arr, left, right)\n",
    "        quicksort(arr, partition_pos + 1, right)\n",
    "        quicksort(arr, left, partition_pos - 1)\n",
    "\n",
    "\n",
    "def partition(arr, left, right):\n",
    "    i = left\n",
    "    j = right - 1\n",
    "    pivot = arr[right]\n",
    "\n",
    "    while i < j:\n",
    "        while i < right and arr[i] < pivot:\n",
    "            i = i + 1\n",
    "        while j > left and arr[j] >= pivot:\n",
    "            j = j - 1\n",
    "        if i < j:\n",
    "            arr[i], arr[j] = arr[j], arr[i]\n",
    "\n",
    "    if arr[i] > pivot:\n",
    "        arr[i], arr[right] = arr[right], arr[i]\n",
    "\n",
    "    return i\n",
    "\n",
    "arr = [22, 11, 88, 66, 55, 77, 33, 44]\n",
    "quicksort(arr, 0, len(arr) - 1)\n",
    "print(arr)"
   ]
  },
  {
   "cell_type": "markdown",
   "id": "ffa0faaa",
   "metadata": {},
   "source": [
    "# Merge Sort\n"
   ]
  },
  {
   "cell_type": "code",
   "execution_count": 1,
   "id": "ec98c169",
   "metadata": {},
   "outputs": [],
   "source": [
    "def mergeSort(arr):\n",
    "    if len(arr) > 1:\n",
    "        leftArr = arr[:len(arr)//2]\n",
    "        rightArr = arr[len(arr)//2:]\n",
    "\n",
    "        mergeSort(leftArr)\n",
    "        mergeSort(rightArr)\n",
    "\n",
    "        i = 0\n",
    "        j = 0\n",
    "        k = 0\n",
    "        while i < len(leftArr) and j < len(rightArr):\n",
    "            if leftArr[i] < rightArr[j]:\n",
    "                arr[k] = leftArr[i]\n",
    "                i += 1\n",
    "            else:\n",
    "                arr[k] = rightArr[j]\n",
    "                j += 1\n",
    "            \n",
    "            k += 1\n",
    "\n",
    "        while i < len(leftArr):\n",
    "            arr[k] = leftArr[i]\n",
    "            i += 1\n",
    "            k += 1\n",
    "\n",
    "        while j < len(rightArr):\n",
    "            arr[k] = rightArr[j]\n",
    "            j += 1\n",
    "            k += 1\n",
    "    "
   ]
  },
  {
   "cell_type": "code",
   "execution_count": 3,
   "id": "bdaf915d",
   "metadata": {},
   "outputs": [
    {
     "name": "stdout",
     "output_type": "stream",
     "text": [
      "[0, 1, 2, 2, 3, 4, 4, 4, 5, 6, 7]\n"
     ]
    }
   ],
   "source": [
    "arrTest = [2,3,5,1,7,4,4,4,2,6,0]\n",
    "mergeSort(arrTest)\n",
    "print(arrTest)"
   ]
  },
  {
   "cell_type": "code",
   "execution_count": null,
   "id": "d3e0a04a",
   "metadata": {},
   "outputs": [
    {
     "data": {
      "text/plain": [
       "2"
      ]
     },
     "execution_count": 3,
     "metadata": {},
     "output_type": "execute_result"
    }
   ],
   "source": [
    "#binary search\n",
    "def binarySearch(arr, target):\n",
    "    left, right = 0, len(arr)-1\n",
    "    while left <= right:\n",
    "        mid = (left + right) // 2   #the double / floors the value in case of a float return\n",
    "        if arr[mid] == target:\n",
    "            return mid\n",
    "        elif arr[mid] < target:\n",
    "            left = mid + 1\n",
    "        else:\n",
    "            right = mid - 1\n",
    "\n",
    "    return -1\n",
    "\n",
    "arr = [12.0, 13.0, 23.0, 45.0, 56.0, 57.0, 57.0, 67.0, 78.0, 89.0, 90.0, 900.0]\n",
    "binarySearch(arr, 23.0)    \n"
   ]
  }
 ],
 "metadata": {
  "kernelspec": {
   "display_name": "base",
   "language": "python",
   "name": "python3"
  },
  "language_info": {
   "codemirror_mode": {
    "name": "ipython",
    "version": 3
   },
   "file_extension": ".py",
   "mimetype": "text/x-python",
   "name": "python",
   "nbconvert_exporter": "python",
   "pygments_lexer": "ipython3",
   "version": "3.12.4"
  }
 },
 "nbformat": 4,
 "nbformat_minor": 5
}
