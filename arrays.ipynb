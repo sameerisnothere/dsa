{
 "cells": [
  {
   "cell_type": "markdown",
   "id": "bcc6165f",
   "metadata": {},
   "source": [
    "## Quicksort"
   ]
  },
  {
   "cell_type": "code",
   "execution_count": 3,
   "id": "fa44fee0",
   "metadata": {},
   "outputs": [
    {
     "name": "stdout",
     "output_type": "stream",
     "text": [
      "[11, 22, 33, 44, 55, 66, 77, 88]\n"
     ]
    }
   ],
   "source": [
    "def quicksort(arr, left, right):\n",
    "    if left < right:\n",
    "        partition_pos = partition(arr, left, right)\n",
    "        quicksort(arr, partition_pos + 1, right)\n",
    "        quicksort(arr, left, partition_pos - 1)\n",
    "\n",
    "\n",
    "def partition(arr, left, right):\n",
    "    i = left\n",
    "    j = right - 1\n",
    "    pivot = arr[right]\n",
    "\n",
    "    while i < j:\n",
    "        while i < right and arr[i] < pivot:\n",
    "            i = i + 1\n",
    "        while j > left and arr[j] >= pivot:\n",
    "            j = j - 1\n",
    "        if i < j:\n",
    "            arr[i], arr[j] = arr[j], arr[i]\n",
    "\n",
    "    if arr[i] > pivot:\n",
    "        arr[i], arr[right] = arr[right], arr[i]\n",
    "\n",
    "    return i\n",
    "\n",
    "arr = [22, 11, 88, 66, 55, 77, 33, 44]\n",
    "quicksort(arr, 0, len(arr) - 1)\n",
    "print(arr)"
   ]
  },
  {
   "cell_type": "code",
   "execution_count": null,
   "id": "ec98c169",
   "metadata": {},
   "outputs": [],
   "source": []
  },
  {
   "cell_type": "code",
   "execution_count": null,
   "id": "bdaf915d",
   "metadata": {},
   "outputs": [],
   "source": []
  }
 ],
 "metadata": {
  "kernelspec": {
   "display_name": "base",
   "language": "python",
   "name": "python3"
  },
  "language_info": {
   "codemirror_mode": {
    "name": "ipython",
    "version": 3
   },
   "file_extension": ".py",
   "mimetype": "text/x-python",
   "name": "python",
   "nbconvert_exporter": "python",
   "pygments_lexer": "ipython3",
   "version": "3.12.4"
  }
 },
 "nbformat": 4,
 "nbformat_minor": 5
}
